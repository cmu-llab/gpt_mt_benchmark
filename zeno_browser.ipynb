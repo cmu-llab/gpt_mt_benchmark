{
 "cells": [
  {
   "cell_type": "markdown",
   "metadata": {},
   "source": [
    "# Analyzing Results with Zeno\n",
    "\n",
    "This notebook shows how to use the Zeno library to analyze the results from our experiments."
   ]
  },
  {
   "cell_type": "code",
   "execution_count": 1,
   "metadata": {},
   "outputs": [
    {
     "name": "stderr",
     "output_type": "stream",
     "text": [
      "/Users/gneubig/anaconda3/envs/zeno-build/lib/python3.10/site-packages/tqdm/auto.py:21: TqdmWarning: IProgress not found. Please update jupyter and ipywidgets. See https://ipywidgets.readthedocs.io/en/stable/user_install.html\n",
      "  from .autonotebook import tqdm as notebook_tqdm\n"
     ]
    }
   ],
   "source": [
    "import pandas as pd\n",
    "import tarfile\n",
    "import tempfile\n",
    "import os\n",
    "import csv\n",
    "import evaluate\n",
    "import math\n",
    "from datasets import load_dataset\n",
    "\n",
    "from zeno import MetricReturn, ZenoOptions, metric, distill, DistillReturn\n",
    "from zeno_build.evaluation.text_features.length import input_length, output_length\n",
    "from zeno_build.evaluation.text_metrics.critique import (\n",
    "    avg_bert_score,\n",
    "    bert_score,\n",
    ")\n",
    "from zeno_build.experiments.experiment_run import ExperimentRun\n",
    "from zeno_build.reporting.visualize import visualize\n"
   ]
  },
  {
   "cell_type": "code",
   "execution_count": 2,
   "metadata": {},
   "outputs": [],
   "source": [
    "trg_langs_with_gpt4_results = [\"lvs_Latn\", \"tpi_Latn\", \"ukr_Cyrl\", \"lim_Latn\", \"kat_Geor\", \"tam_Taml\", \"mag_Deva\", \"hau_Latn\", \"fra_Latn\", \"acm_Arab\", \"ssw_Latn\", \"kmr_Latn\", \"war_Latn\", \"ajp_Arab\", \"pbt_Arab\", \"gle_Latn\", \"ron_Latn\", \"sna_Latn\", \"ckb_Arab\", \"ibo_Latn\"]\n",
    "trg_langs = trg_langs_with_gpt4_results"
   ]
  },
  {
   "cell_type": "code",
   "execution_count": 3,
   "metadata": {},
   "outputs": [],
   "source": [
    "# read `data/flores200_dataset.tar.gz`\n",
    "# Create a temporary directory\n",
    "with tempfile.TemporaryDirectory() as tmpdirname:\n",
    "    # Extract the archive contents to the temp directory\n",
    "    with tarfile.open(\"data/flores200_dataset.tar.gz\", \"r:gz\") as tar:\n",
    "        tar.extractall(tmpdirname)\n",
    "    # Read the contents of English\n",
    "    with open(os.path.join(tmpdirname, \"flores200_dataset\", \"devtest\", \"eng_Latn.devtest\"), \"r\") as f:\n",
    "        src_data = [x.strip() for x in f.readlines()] * len(trg_langs)\n",
    "    # Read the contents of the target language\n",
    "    trg_data = []\n",
    "    trg_lang_data = []\n",
    "    for trg_lang in trg_langs:\n",
    "        with open(os.path.join(tmpdirname, \"flores200_dataset\", \"devtest\", f\"{trg_lang}.devtest\"), \"r\") as f:\n",
    "            trg_data.extend([x.strip() for x in f.readlines()])\n",
    "        trg_lang_data.extend([trg_lang] * 1012)\n",
    "    # The dev set is 997 sentences, so it should be that times number of languages\n",
    "    if not len(trg_data) == 1012 * len(trg_langs):\n",
    "        raise ValueError(f\"{len(trg_data)=} != {1012 * len(trg_langs)=}\")\n",
    "\n",
    "# Create the pandas dataframe\n",
    "df = pd.DataFrame({\"source\": src_data, \"label\": trg_data, \"trg_lang\": trg_lang_data})"
   ]
  },
  {
   "cell_type": "code",
   "execution_count": 4,
   "metadata": {},
   "outputs": [],
   "source": [
    "def load_hyp_from_tsv(filename: str) -> list[str]:\n",
    "    with open(filename, \"r\") as f:\n",
    "        # Load the third column from the csv reader after the header\n",
    "        reader = csv.reader(f, delimiter=\"\\t\")\n",
    "        next(reader)\n",
    "        return [x[2] for x in reader]\n",
    "\n",
    "# get all the files in the system_outputs folder\n",
    "experiment_runs = []\n",
    "for subdir in os.listdir(\"system_outputs\"):\n",
    "    # The sub_directory must be a directory\n",
    "    subdir_path = os.path.join(\"system_outputs\", subdir)\n",
    "    if not os.path.isdir(subdir_path):\n",
    "        raise ValueError(f\"{subdir_path=} is not a directory\")\n",
    "    # get all the files in the sub_directory\n",
    "    all_files = os.listdir(subdir_path)\n",
    "    trg_results = []\n",
    "    for trg_lang in trg_langs:\n",
    "        # find the tsv file\n",
    "        trg_file = [f for f in all_files if f.endswith(f\"{trg_lang}.tsv\")]\n",
    "        if len(trg_file) == 1:\n",
    "            trg_results.extend(load_hyp_from_tsv(os.path.join(subdir_path, trg_file[0])))\n",
    "            continue\n",
    "        # find the hyp file\n",
    "        trg_file = [f for f in all_files if f.endswith(f\"{trg_lang}-devtest.hyp\")]\n",
    "        if len(trg_file) == 1:\n",
    "            with open(os.path.join(subdir_path, trg_file[0]), \"r\") as f:\n",
    "                trg_results.extend([x.strip() for x in f.readlines()])\n",
    "            continue\n",
    "        # Die\n",
    "        raise ValueError(f\"Expected tsv or hyp file with {trg_lang=} but found none in {subdir_path}\")\n",
    "    if not len(trg_results) == 1012 * len(trg_langs):\n",
    "        raise ValueError(f\"{len(trg_results)=} != {1012 * len(trg_langs)=}\")\n",
    "    experiment_run = ExperimentRun(\n",
    "        name=subdir,\n",
    "        parameters={\"name\": subdir},\n",
    "        predictions=trg_results,\n",
    "    )\n",
    "    experiment_runs.append(experiment_run)\n",
    "    "
   ]
  },
  {
   "cell_type": "code",
   "execution_count": 5,
   "metadata": {},
   "outputs": [],
   "source": [
    "chrf_evaluator = evaluate.load(\"chrf\")\n",
    "\n",
    "@distill\n",
    "def chrf(df, ops: ZenoOptions):\n",
    "    outputs = df[ops.output_column]\n",
    "    labels = df[ops.label_column]\n",
    "    results = [\n",
    "        chrf_evaluator.compute(predictions=[o], references=[[l]])[\"score\"] for o, l in zip(outputs, labels)\n",
    "    ]\n",
    "    return DistillReturn(distill_output=results)\n",
    "\n",
    "@metric\n",
    "def avg_chrf(df, ops: ZenoOptions):\n",
    "    avg = df[ops.distill_columns[\"chrf\"]].mean()\n",
    "    if pd.isnull(avg) or math.isnan(avg):\n",
    "        return MetricReturn(metric=0)\n",
    "    return MetricReturn(metric=avg)"
   ]
  },
  {
   "cell_type": "code",
   "execution_count": null,
   "metadata": {},
   "outputs": [
    {
     "name": "stdout",
     "output_type": "stream",
     "text": [
      "nllb_moe {'name': 'nllb_moe'}\n",
      "tt-five {'name': 'tt-five'}\n",
      "tt-zero {'name': 'tt-zero'}\n",
      "gpt4_tt-five {'name': 'gpt4_tt-five'}\n",
      "WARNING: no id_column specified, using index as id_column. If you are using a data_column, suggest using it as id_column.\n"
     ]
    },
    {
     "name": "stdout",
     "output_type": "stream",
     "text": [
      "\n",
      "\u001b[1mZeno\u001b[0m running on http://localhost:8000\n",
      "Running predistill functions\n",
      "\n"
     ]
    },
    {
     "name": "stderr",
     "output_type": "stream",
     "text": [
      "preprocessing input_length: 100%|██████████| 1/1 [00:00<00:00, 99.25it/s]\n"
     ]
    },
    {
     "name": "stdout",
     "output_type": "stream",
     "text": [
      "Running inference\n"
     ]
    },
    {
     "name": "stderr",
     "output_type": "stream",
     "text": [
      "Inference on nllb_moe: 100%|██████████| 1/1 [00:00<00:00, 29.96it/s]\n",
      "Inference on tt-five: 100%|██████████| 1/1 [00:00<00:00, 29.02it/s]\n",
      "\n",
      "Inference on tt-zero: 100%|██████████| 1/1 [00:00<00:00, 29.72it/s]\n",
      "\n",
      "\n",
      "Inference on gpt4_tt-five: 100%|██████████| 1/1 [00:00<00:00, 30.66it/s]\n"
     ]
    },
    {
     "name": "stdout",
     "output_type": "stream",
     "text": [
      "Running postdistill functions\n"
     ]
    },
    {
     "name": "stderr",
     "output_type": "stream",
     "text": [
      "postprocessing output_length on nllb_moe: 100%|██████████| 1/1 [00:00<00:00, 64.51it/s]\n",
      "postprocessing output_length on tt-five: 100%|██████████| 1/1 [00:00<00:00, 60.40it/s]\n",
      "\n",
      "postprocessing output_length on tt-zero: 100%|██████████| 1/1 [00:00<00:00, 65.71it/s]\n",
      "\n",
      "\n",
      "postprocessing output_length on gpt4_tt-five: 100%|██████████| 1/1 [00:00<00:00, 63.93it/s]\n",
      "\n",
      "\n",
      "\n",
      "\u001b[A\u001b[A\u001b[A"
     ]
    },
    {
     "name": "stdout",
     "output_type": "stream",
     "text": [
      "i=0, o='\"Tagad mums ir četru mēnešu vecas pelītes, kurām nav cukura diabēta, bet kurām agrāk bija diabēts\", viņš piebilda.'\n",
      "i=1, o='Dr. Ehuds Urs, Dalhauzijas universitātes medicīnas profesors un Kanādas Diabēta asociācijas klīniskās un zinātniskās nodaļas vadītājs, brīdināja, ka pētījumi vēl tikai sākas.'\n",
      "i=2, o='Tāpat kā citi speciālisti, viņš ir skeptisks par to, vai diabētu ir iespējams izārstēt, un atzīmē, ka šie atklājumi nav svarīgi cilvēkiem, kam jau ir 1. tipa diabēts.'\n",
      "i=3, o='Otrdien Zviedrijas akadēmijas Nobela prēmijas Literatūras komitejas pastāvīgā sekretāre Sara Daniusa publicēja paziņojumu Sveriges Radio raidījumā, ka komiteja, nespējot tieši sazināties ar Bobu Dilanu par 2016. gada Nobela prēmijas Literatūrā saņemšanu, ir pārtraukusi centienus ar viņu sazināties.'\n",
      "i=4, o='Daniuss teica: \"Šobrīd mēs neko nedarām. Es esmu piezvanījis un nosūtījis e-pastu viņa tuvākajam sadarbības partnerim un saņēmis ļoti draudzīgas atbildes. Pagaidām tas noteikti ir pietiekami\".'\n",
      "i=5, o='Iepriekš Ring izpilddirektors Džeimijs Siminofs atzīmēja, ka uzņēmums sākās, kad viņa durvju zvans nebija dzirdams no viņa veikala viņa garāžā.'\n"
     ]
    },
    {
     "name": "stderr",
     "output_type": "stream",
     "text": [
      "\n",
      "\n",
      "\n",
      "\n",
      "\u001b[A\u001b[A\u001b[A\u001b[A"
     ]
    },
    {
     "name": "stdout",
     "output_type": "stream",
     "text": [
      "i=0, o='\"Tagad mums ir četru mēnešu veci peliņi, kas agrāk bija diabētiski, bet tagad nav,\" viņš piebilda.'\n",
      "i=1, o='Dr. Ehud Ur, medicīnas profesors Dalhousie Universitātē Halifaksā, Nova Skotijā un Kanādas Diabēta asociācijas klīniskās un zinātniskās nodaļas vadītājs, brīdināja, ka pētījums vēl ir agrīnā stadijā.'\n",
      "i=2, o='Kā arī daži citi eksperti, viņš ir skeptisks par to, vai diabētu var izārstēt, norādot, ka šie atklājumi nav nozīmīgi cilvēkiem, kuri jau cieš no 1. tipa diabēta.'\n",
      "i=3, o='Pirmdien, Sarai Daniusai, Zviedrijas Akadēmijas Nobela literatūras komitejas pastāvīgajai sekretārei, publiski paziņoja radio programmā uz Sveriges Radio Zviedrijā, ka komiteja, nevarot sazināties ar Bobu Dilanu tieši par 2016. gada Nobela literatūras balvas iegūšanu, bija pārtraukusi centienus sazināties ar viņu.'\n",
      "i=4, o='Danius teica: \"Pašlaik mēs neko nedarām. Es esmu zvanījis un nosūtījis e-pastus viņa tuvākajam sadarbības partnerim un saņēmis ļoti draudzīgas atbildes. Pagaidām tas noteikti ir pietiekami.\"'\n",
      "i=5, o='Iepriekš Ringa izpilddirektors Džeimis Siminofs norādīja, ka uzņēmums sākās, kad viņa durvju zvans nebija dzirdams no viņa veikala garāžā.'\n"
     ]
    },
    {
     "name": "stderr",
     "output_type": "stream",
     "text": [
      "\n",
      "\n",
      "\n",
      "\n",
      "\n",
      "\u001b[A\u001b[A\u001b[A\u001b[A\u001b[A"
     ]
    },
    {
     "name": "stdout",
     "output_type": "stream",
     "text": [
      "i=0, o='\"Mums tagad ir četru mēnešu veci peliņi, kas nav diabētiski, bet agrāk bija diabētiski,\" viņš piebilda.'\n",
      "i=1, o='Dr. Ehud Ur, medicīnas profesors Dalhousie Universitātē Halifaksā, Nova Skotijā un Kanādas Diabēta asociācijas klīniskās un zinātniskās nodaļas vadītājs, brīdināja, ka pētījums joprojām ir sākuma stadijās.'\n",
      "i=2, o='Kā arī citi eksperti, viņš ir skeptisks par to, vai diabētu var izārstēt, norādot, ka šie atklājumi nav saistīti ar cilvēkiem, kuri jau cieš no 1. tipa diabēta.'\n",
      "i=3, o='Pirmdien, Sara Danius, Zviedrijas Akadēmijas Nobelu komitejas literatūras pastāvīgā sekretāre, publiski paziņoja radio programmas \"Sveriges Radio\" raidījumā Zviedrijā, ka komiteja, nevarot sazināties ar Bobu Dilanu tieši par 2016. gada Nobelu literatūrā, bija pārtraukusi centienus sazināties ar viņu.'\n",
      "i=4, o='Danius teica: \"Pašlaik mēs neko nedarām. Es esmu zvanījis un sūtījis e-pastus viņa tuvākajam sadarbības partnerim un saņēmis ļoti draudzīgas atbildes. Pagaidām tas noteikti ir pietiekami.\"'\n",
      "i=5, o='Iepriekš Ringa izpilddirektors Džeimijs Siminofs atzina, ka uzņēmums sāka darboties, kad viņa durvju zvans nebija dzirdams no viņa veikala garāžā.'\n"
     ]
    },
    {
     "name": "stderr",
     "output_type": "stream",
     "text": [
      "\n",
      "\n",
      "\n",
      "\n",
      "\n",
      "\n",
      "\u001b[A\u001b[A\u001b[A\u001b[A\u001b[A\u001b[A"
     ]
    },
    {
     "name": "stdout",
     "output_type": "stream",
     "text": [
      "i=0, o='\"Mums tagad ir četrus mēnešus vecas peles, kuras vairs nav diabētiķes, bet agrāk bija,\" viņš piebilda.'\n",
      "i=1, o='Dr. Ehud Ur, medicīnas profesors Dalhauzijas Universitātē Halifaxā, Novā Skotijā, un Kanādas Diabēta asociācijas klīniskās un zinātniskās nodaļas vadītājs brīdina, ka pētījumi vēl ir sākumstadijā.'\n",
      "i=2, o='Tāpat kā daži citi eksperti, viņš ir skeptisks par to, vai diabētu var izārstēt, norādot, ka šiem atklājumiem nav nekādas nozīmes cilvēkiem, kuriem jau ir 1. tipa diabēts.'\n",
      "i=3, o='Pirmdien, Sara Danius, pastāvīgā sekretāre Zviedru Akadēmijas Nobela literatūras komitejā, publiski paziņoja Sveriges Radio raidījumā Zviedrijā, ka komiteja, nespējot tieši sazināties ar Bobu Dilanu par 2016. gada Nobela prēmijas literatūrā iegūšanu, ir pārtraukusi mēģinājumus viņu sasniegt.'\n",
      "i=4, o='Danius teica: \"Pašlaik mēs neko nedaram. Es esmu zvanījis un sūtījis e-pastus viņa tuvākajam sadarbības partnerim un saņēmis ļoti draudzīgas atbildes. Pagaidām tas noteikti ir pietiekami.\"'\n",
      "i=5, o='Iepriekš Rings izpilddirektors Džeimijs Siminofs teica, ka uzņēmums tika dibināts, kad viņa zvanu pie durvīm nevarēja dzirdēt no viņa darbnīcas garāžā.'\n"
     ]
    }
   ],
   "source": [
    "functions = [\n",
    "    output_length,\n",
    "    input_length,\n",
    "    chrf,\n",
    "    avg_chrf,\n",
    "    # bert_score,\n",
    "    # avg_bert_score,\n",
    "]\n",
    "\n",
    "visualize(\n",
    "    df,\n",
    "    trg_data,\n",
    "    experiment_runs,\n",
    "    \"text-classification\",\n",
    "    \"source\",\n",
    "    functions,\n",
    "    zeno_config={\"cache_path\": \"zeno_cache\"},\n",
    "    \n",
    ")\n",
    "     "
   ]
  },
  {
   "cell_type": "code",
   "execution_count": null,
   "metadata": {},
   "outputs": [],
   "source": []
  }
 ],
 "metadata": {
  "kernelspec": {
   "display_name": "zeno-build",
   "language": "python",
   "name": "python3"
  },
  "language_info": {
   "codemirror_mode": {
    "name": "ipython",
    "version": 3
   },
   "file_extension": ".py",
   "mimetype": "text/x-python",
   "name": "python",
   "nbconvert_exporter": "python",
   "pygments_lexer": "ipython3",
   "version": "3.10.11"
  },
  "orig_nbformat": 4
 },
 "nbformat": 4,
 "nbformat_minor": 2
}
